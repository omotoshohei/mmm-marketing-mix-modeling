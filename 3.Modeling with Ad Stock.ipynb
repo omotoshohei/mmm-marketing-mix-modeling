{
 "cells": [
  {
   "cell_type": "markdown",
   "id": "dfe37573",
   "metadata": {},
   "source": [
    "# Marketing‑Mix Modeling (MMM) – With Ad‑Stock & Saturation\n",
    "This script extends the “plain” MMM example by introducing **carry‑over(ad‑stock) effects** and **diminishing‑return curves** for paid media.\n",
    "\n",
    "The workflow is:\n",
    "1. Load weekly sales + media data.\n",
    "2. Generate Fourier seasonality terms.\n",
    "3. Tell the optimizer which media columns require ad‑stock.\n",
    "4. Run Optuna to tune ARIMAX *plus* per‑channel carry‑over & curve\n",
    "   parameters (decay rate, saturation strength, etc.).\n",
    "5. Fit the final model, visualise the estimated ad‑stock curves, and\n",
    "   save everything (study, model, predictions).\n",
    "6. Translate coefficients into yen **contribution**, compute **ROI**,\n",
    "   and plot Contribution × ROI for budget insight.\n",
    "\n",
    "Every block is annotated so you can follow the logic step‑by‑step."
   ]
  },
  {
   "cell_type": "code",
   "execution_count": 1,
   "id": "f7a03a7a",
   "metadata": {},
   "outputs": [],
   "source": [
    "# ────────────────────────────────────────────────────────────────────\n",
    "# STEP 1. Imports\n",
    "# ────────────────────────────────────────────────────────────────────\n",
    "# `mmm_functions.py` bundles helper utilities:\n",
    "#   • Fourier generator\n",
    "#   • Optuna objective that supports carry‑over & saturation\n",
    "#   • Contribution / ROI calculators & plotting helpers\n",
    "\n",
    "from mmm_functions import *\n",
    "\n",
    "import pandas as pd\n",
    "import numpy as np\n",
    "import matplotlib.pyplot as plt\n",
    "import joblib   # for persisting Optuna study & model objects\n",
    "\n",
    "# ────────────────────────────────────────────────────────────────────\n",
    "# STEP 2. Load Weekly Data\n",
    "# ────────────────────────────────────────────────────────────────────\n",
    "DATASET_PATH = \"df_mmm.csv\"\n",
    "df = pd.read_csv(\n",
    "    DATASET_PATH,\n",
    "    parse_dates=[\"week\"],\n",
    "    index_col=\"week\",\n",
    ")\n",
    "\n",
    "# ────────────────────────────────────────────────────────────────────\n",
    "# STEP 3. Declare Media Columns that Need Ad‑Stock\n",
    "# ────────────────────────────────────────────────────────────────────\n",
    "# In MMM jargon, “apply_effects_features” are *paid media drivers*\n",
    "# whose influence is assumed to *linger* beyond the week they were\n",
    "# spent (carry‑over) and to *saturate* at high spend levels.\n",
    "apply_effects_features = [\"traditional\", \"internet\", \"promotional\"]\n",
    "\n",
    "# ────────────────────────────────────────────────────────────────────\n",
    "# STEP 4. Add Fourier Seasonality Terms\n",
    "# ────────────────────────────────────────────────────────────────────\n",
    "# 5 sine + 5 cosine pairs (10 columns) for a 52‑week period.\n",
    "df = add_fourier_terms(df, num=5, seasonal=52.25)\n",
    "\n",
    "# ────────────────────────────────────────────────────────────────────\n",
    "# STEP 5. Restrict to Last ≈ 5 Years\n",
    "# ────────────────────────────────────────────────────────────────────\n",
    "data_term = int(52.25 * 5)\n",
    "\n",
    "X = df.drop(columns=['sales'])[-data_term:]\n",
    "y = df['sales'][-data_term:]"
   ]
  },
  {
   "cell_type": "code",
   "execution_count": null,
   "id": "2b5a8e5e",
   "metadata": {},
   "outputs": [
    {
     "name": "stdout",
     "output_type": "stream",
     "text": [
      "Running Optuna with ad‑stock tuning ...\n"
     ]
    },
    {
     "data": {
      "application/vnd.jupyter.widget-view+json": {
       "model_id": "3ac2f5119ac749d8b5c13dc3476331f1",
       "version_major": 2,
       "version_minor": 0
      },
      "text/plain": [
       "  0%|          | 0/1000 [00:00<?, ?it/s]"
      ]
     },
     "metadata": {},
     "output_type": "display_data"
    }
   ],
   "source": [
    "# ────────────────────────────────────────────────────────────────────\n",
    "# STEP 6. Hyper‑parameter Search with Ad‑Stock\n",
    "# ────────────────────────────────────────────────────────────────────\n",
    "# `regarima_objective` optimises:\n",
    "#   • AR / MA orders, BoxCox/log transform flags\n",
    "#   • Each channel’s carry‑over decay α (0–1, where 1 = no decay)\n",
    "#   • Each channel’s saturation “shape” (e.g. Hill or power curve)\n",
    "#   • Regularisation strength (ridge / lasso)\n",
    "#\n",
    "# n_trials=100 keeps runtime reasonable for demo purposes; increase\n",
    "# to 500+ for better convergence.\n",
    "print(\"Running Optuna with ad‑stock tuning ...\")\n",
    "study = run_optimization(\n",
    "    regarima_objective, \n",
    "    X, y, \n",
    "    apply_effects_features, \n",
    "    n_trials=1000)\n",
    "\n",
    "# Persist the Optuna study so you can inspect trials later\n",
    "joblib.dump(study, \"ridgeMMM_study.joblib\")\n",
    "\n",
    "print(\"Best validation metric:\", study.best_value)\n",
    "print(\"Best parameters:\")\n",
    "for k, v in study.best_trial.params.items():\n",
    "    print(f\"  • {k}: {v}\")\n",
    "print()\n",
    "\n"
   ]
  },
  {
   "cell_type": "code",
   "execution_count": null,
   "id": "106d489a",
   "metadata": {},
   "outputs": [],
   "source": [
    "\n",
    "# ────────────────────────────────────────────────────────────────────\n",
    "# STEP 7. Fit Final Model on Full Data Window\n",
    "# ────────────────────────────────────────────────────────────────────\n",
    "trained_model, model_params, pred = create_model_from_trial_regarima(\n",
    "    study.best_trial,\n",
    "    X,\n",
    "    y,\n",
    "    apply_effects_features,\n",
    ")\n",
    "\n",
    "# `model_params` returns a tuple:\n",
    "#   • [0] carry‑over parameters (decay α for each channel)\n",
    "#   • [1] curve parameters       (saturation coefficient, etc.)\n",
    "best_carryover_params = model_params[0]\n",
    "best_curve_params     = model_params[1]\n",
    "\n",
    "# Visualise the estimated ad‑stock and saturation curves\n",
    "plot_effects(\n",
    "    best_carryover_params,\n",
    "    best_curve_params,\n",
    "    apply_effects_features,\n",
    ")\n",
    "\n",
    "# Save trained model to disk for later scoring\n",
    "joblib.dump(trained_model, \"ridgeMMM_trained_model.joblib\")\n"
   ]
  },
  {
   "cell_type": "code",
   "execution_count": null,
   "id": "2bedc1d9",
   "metadata": {},
   "outputs": [],
   "source": [
    "# ────────────────────────────────────────────────────────────────────\n",
    "# STEP 8. Save Fitted Predictions (optional)\n",
    "# ────────────────────────────────────────────────────────────────────\n",
    "pred = trained_model.predict(X)\n",
    "pred = pd.DataFrame(pred, index=X.index, columns=['y'])\n",
    "pred.to_csv('pred.csv')"
   ]
  },
  {
   "cell_type": "code",
   "execution_count": null,
   "id": "9169d3b0",
   "metadata": {},
   "outputs": [],
   "source": [
    "# ────────────────────────────────────────────────────────────────────\n",
    "# STEP 9. Calculate Weekly Contribution\n",
    "# ────────────────────────────────────────────────────────────────────\n",
    "contribution = calculate_and_plot_contribution(\n",
    "    y, X, \n",
    "    trained_model, \n",
    "    (0, np.max(y)*1.1), \n",
    "    apply_effects_features\n",
    ")\n",
    "print(\"Weekly contribution head:\")\n",
    "print(contribution.head(), \"\\n\")"
   ]
  },
  {
   "cell_type": "code",
   "execution_count": null,
   "id": "4087515f",
   "metadata": {},
   "outputs": [],
   "source": [
    "# ────────────────────────────────────────────────────────────────────\n",
    "# STEP 10. Summarise Contribution Share\n",
    "# ────────────────────────────────────────────────────────────────────\n",
    "contribution_totals = summarize_and_plot_contribution(contribution)\n",
    "print(\"Total contribution & share:\")\n",
    "print(contribution_totals, \"\\n\")"
   ]
  },
  {
   "cell_type": "code",
   "execution_count": null,
   "id": "2a3c1c13",
   "metadata": {},
   "outputs": [],
   "source": [
    "# ────────────────────────────────────────────────────────────────────\n",
    "# STEP 11. Calculate Marketing ROI\n",
    "# ────────────────────────────────────────────────────────────────────\n",
    "# マーケティングROIの算出\n",
    "ROI = calculate_marketing_roi(\n",
    "    X[apply_effects_features], \n",
    "    contribution[apply_effects_features]\n",
    ")\n",
    "\n",
    "print(ROI)\n"
   ]
  },
  {
   "cell_type": "code",
   "execution_count": null,
   "id": "e9adb00a",
   "metadata": {},
   "outputs": [],
   "source": [
    "# ────────────────────────────────────────────────────────────────────\n",
    "# STEP 12. Contribution × ROI Scatter Plot\n",
    "# ────────────────────────────────────────────────────────────────────\n",
    "data_to_plot = plot_scatter_of_contribution_and_roi(\n",
    "    X[apply_effects_features], \n",
    "    contribution[apply_effects_features]\n",
    ")\n",
    "\n",
    "print(data_to_plot)"
   ]
  },
  {
   "cell_type": "code",
   "execution_count": null,
   "id": "ee0ab0ac",
   "metadata": {},
   "outputs": [],
   "source": []
  }
 ],
 "metadata": {
  "kernelspec": {
   "display_name": "Python 3 (ipykernel)",
   "language": "python",
   "name": "python3"
  },
  "language_info": {
   "codemirror_mode": {
    "name": "ipython",
    "version": 3
   },
   "file_extension": ".py",
   "mimetype": "text/x-python",
   "name": "python",
   "nbconvert_exporter": "python",
   "pygments_lexer": "ipython3",
   "version": "3.10.6"
  },
  "toc": {
   "base_numbering": 1,
   "nav_menu": {},
   "number_sections": true,
   "sideBar": true,
   "skip_h1_title": false,
   "title_cell": "Table of Contents",
   "title_sidebar": "Contents",
   "toc_cell": false,
   "toc_position": {},
   "toc_section_display": true,
   "toc_window_display": false
  }
 },
 "nbformat": 4,
 "nbformat_minor": 5
}
